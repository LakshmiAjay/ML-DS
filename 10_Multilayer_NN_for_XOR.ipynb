{
  "nbformat": 4,
  "nbformat_minor": 0,
  "metadata": {
    "colab": {
      "provenance": [],
      "gpuType": "T4",
      "include_colab_link": true
    },
    "kernelspec": {
      "name": "python3",
      "display_name": "Python 3"
    },
    "language_info": {
      "name": "python"
    },
    "accelerator": "GPU"
  },
  "cells": [
    {
      "cell_type": "markdown",
      "metadata": {
        "id": "view-in-github",
        "colab_type": "text"
      },
      "source": [
        "<a href=\"https://colab.research.google.com/github/LakshmiAjay/ML-DS/blob/main/10_Multilayer_NN_for_XOR.ipynb\" target=\"_parent\"><img src=\"https://colab.research.google.com/assets/colab-badge.svg\" alt=\"Open In Colab\"/></a>"
      ]
    },
    {
      "cell_type": "code",
      "execution_count": null,
      "metadata": {
        "id": "UZPEWAa89M9A"
      },
      "outputs": [],
      "source": [
        "import numpy as np\n",
        "import matplotlib.pyplot as plt"
      ]
    },
    {
      "cell_type": "code",
      "source": [
        "X=np.array([[0,0,1,1],[0,1,0,1]])\n",
        "Y=np.array([[0,1,1,0]])"
      ],
      "metadata": {
        "id": "uaJwzWla9txg"
      },
      "execution_count": null,
      "outputs": []
    },
    {
      "cell_type": "code",
      "source": [
        "n_x=2\n",
        "n_y=1\n",
        "n_h=2\n",
        "m=X.shape[1]\n",
        "lr=0.1\n",
        "np.random.seed(2)\n",
        "w1=np.random.rand(n_h,n_x)\n",
        "w2=np.random.rand(n_y,n_h)\n",
        "loses=[]"
      ],
      "metadata": {
        "id": "7aXFi4Up90bI"
      },
      "execution_count": null,
      "outputs": []
    },
    {
      "cell_type": "code",
      "source": [
        "def sigmoid(z):\n",
        "  return 1/(1+np.exp(-z))\n",
        "\n",
        "def forw_prop(w1,w2,x):\n",
        "  z1=np.dot(w1,x)\n",
        "  a1=sigmoid(z1)\n",
        "  z2=np.dot(w2,a1)\n",
        "  a2=sigmoid(z2)\n",
        "  return z1,a1,z2,a2\n",
        "def back_prop(m,w1,w2,z1,a1,z2,a2,y):\n",
        "  dz2 =a2-y\n",
        "  dw2 = np.dot(dz2,a1.T)/m\n",
        "  dz1=np.dot(w2.T,dz2)*a1*(1-a1)\n",
        "  dw1=np.dot(dz1,X.T)/m\n",
        "  dw1=np.reshape(dw1,w1.shape)\n",
        "  dw2=np.reshape(dw2,w2.shape)\n",
        "  return dz2,dw2,dz1,dw1\n",
        "\n"
      ],
      "metadata": {
        "id": "5zo_016m-eZx"
      },
      "execution_count": null,
      "outputs": []
    },
    {
      "cell_type": "code",
      "source": [
        "ii=10000\n",
        "for i in range(ii):\n",
        "  z1,a1,z2,a2=forw_prop(w1,w2,X)\n",
        "  loss= -(1/m)*np.sum(Y*np.log(a2)+(1-Y)*np.log(1-a2))\n",
        "  loses.append(loss)\n",
        "  da2,dw2,dz1,dw1=back_prop(m,w1,w2,z1,a1,z2,a2,Y)\n",
        "  w2=w2-lr*dw2\n",
        "  w1=w1-lr*dw1\n",
        "  plt.plot(loses)\n",
        "  plt.xlabel(\"Epochs\")\n",
        "  plt.ylabel(\"Loss value\")"
      ],
      "metadata": {
        "colab": {
          "base_uri": "https://localhost:8080/",
          "height": 449
        },
        "id": "DufOALST-29g",
        "outputId": "fdfacf85-97c6-41cf-f8a0-32752f6c25dd"
      },
      "execution_count": null,
      "outputs": [
        {
          "output_type": "display_data",
          "data": {
            "text/plain": [
              "<Figure size 640x480 with 1 Axes>"
            ],
            "image/png": "[encoded data removed]"
          },
          "metadata": {}
        }
      ]
    },
    {
      "cell_type": "code",
      "source": [
        "def predict(w1,w2,input):\n",
        "  z1,a1,z2,a2=forw_prop(w1,w2,test)\n",
        "  a2=np.squeeze(a2)\n",
        "  # print(a2)\n",
        "  if a2>=0.5:\n",
        "    print(\"For input\",[i[0] for i in input],\"output is 1\")\n",
        "  else:\n",
        "    print(\"For input\",[i[0] for i in input],\"output is 0\")"
      ],
      "metadata": {
        "id": "Rl0lFJucA8FZ"
      },
      "execution_count": null,
      "outputs": []
    },
    {
      "cell_type": "code",
      "source": [
        "test=np.array([[1],[0]])\n",
        "predict(w1,w2,test)\n",
        "test=np.array([[0],[0]])\n",
        "predict(w1,w2,test)\n",
        "test=np.array([[0],[1]])\n",
        "predict(w1,w2,test)\n",
        "test=np.array([[1],[1]])\n",
        "predict(w1,w2,test)"
      ],
      "metadata": {
        "colab": {
          "base_uri": "https://localhost:8080/"
        },
        "id": "obZ2GYciEgGC",
        "outputId": "c31f2821-d6f3-4419-b621-a09a31816658"
      },
      "execution_count": null,
      "outputs": [
        {
          "output_type": "stream",
          "name": "stdout",
          "text": [
            "For input [1, 0] output is 1\n",
            "For input [0, 0] output is 0\n",
            "For input [0, 1] output is 1\n",
            "For input [1, 1] output is 0\n"
          ]
        }
      ]
    },
    {
      "cell_type": "code",
      "source": [],
      "metadata": {
        "id": "Ja2yZdcEFIE5"
      },
      "execution_count": null,
      "outputs": []
    }
  ]
}